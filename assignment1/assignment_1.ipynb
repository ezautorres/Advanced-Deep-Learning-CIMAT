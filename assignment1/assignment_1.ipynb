{
 "cells": [
  {
   "cell_type": "markdown",
   "metadata": {},
   "source": [
    "# **Tarea 1. Extreme Learning Machine**\n",
    "\n",
    "Implemente los siguientes clasificadores\n",
    "\n",
    "- un Perceptrón multicapa.\n",
    "- una Máquina de aprendizaje extremo.\n",
    "- una Máquina de aprendizaje con pesos binarios ${-1,1}$.\n",
    "\n",
    "Para clasificar datos que tienen la siguiente representación.\n",
    "$x_i$ una matriz de $n \\times n$ enteros (con $n=12$)\n",
    "$y_i \\in {0,1,2,3,4,5}$\n",
    "\n",
    "Donde las entradas de la matriz $x$ se pueden interpretar como índices de columnas de una matriz $E = d \\times m$ ($d=128$, $m=256$).\n",
    "\n",
    "Para el caso de las ELM imponga evalúe el efecto de las reguralarizaciiones sobre la capa de salida:\n",
    "\n",
    "- No regularización.\n",
    "- Ridge\n",
    "- lasso\n",
    "- Elastic-Net\n",
    "\n",
    "Como referencia, los datos son extraídos mediante una codificación por una VQ-VAE de la BD \"Facial Expression Recognition Challenge\"."
   ]
  },
  {
   "cell_type": "markdown",
   "metadata": {},
   "source": [
    "## **Ejercicio 1**\n",
    "\n",
    ">Se usaron 12 épocas, ya que con esas se notó \"buen\" desempeño. El perceptrón cuenta con 4 capas ocultas con 640, 1650, 3000 y 500 neuronas respectivamente. Se usó el optimzador de Descenso de Gradiente Estocástico y una tasa de aprendizaje de 1e-3. Se usó la función de activación \"relu\" en las 4 capas ocultas."
   ]
  },
  {
   "cell_type": "markdown",
   "metadata": {},
   "source": [
    "## **1.- Librerías y datos**"
   ]
  },
  {
   "cell_type": "code",
   "execution_count": 1,
   "metadata": {},
   "outputs": [
    {
     "name": "stdout",
     "output_type": "stream",
     "text": [
      "Dimensiones de los datos:     (35000, 12, 12)\n",
      "Dimensiones de las etiquetas: (35000, 7)\n"
     ]
    }
   ],
   "source": [
    "import numpy as np\n",
    "from sklearn.model_selection import train_test_split\n",
    "from sklearn.preprocessing import StandardScaler\n",
    "from tensorflow.keras.models import Sequential\n",
    "from tensorflow.keras.layers import Dense, Flatten, Input\n",
    "from sklearn.model_selection import train_test_split\n",
    "from tensorflow.keras.optimizers import SGD, RMSprop, Adagrad\n",
    "import matplotlib.pyplot as plt\n",
    "\n",
    "def plot_metrics(history):\n",
    "    fig, (ax1, ax2) = plt.subplots(1, 2, figsize=(12, 5))\n",
    "    # Gráfico de precisión\n",
    "    ax1.plot(history.history['accuracy'], color='blue', label='Entrenamiento')\n",
    "    ax1.plot(history.history['val_accuracy'], color='red', label='Validación')\n",
    "    ax1.set_title('Precisión del modelo')\n",
    "    ax1.set_ylabel('Precisión')\n",
    "    ax1.set_xlabel('Época')\n",
    "    ax1.grid(True)\n",
    "    ax1.legend()\n",
    "    # Gráfico de pérdida\n",
    "    ax2.plot(history.history['loss'], color='blue', label='Entrenamiento')\n",
    "    ax2.plot(history.history['val_loss'], color='red', label='Validación')\n",
    "    ax2.set_title('Pérdida del modelo')\n",
    "    ax2.set_ylabel('Pérdida')\n",
    "    ax2.set_xlabel('Época')\n",
    "    ax2.grid(True)\n",
    "    ax2.legend()\n",
    "    # Mostrar gráficos\n",
    "    plt.tight_layout()\n",
    "    plt.show()\n",
    "\n",
    "# Cargar los datos\n",
    "datos = np.load('codemaps.npy') # Vectores de entrada de 12x12 (35000 \n",
    "etiquetas = np.load('labels.npy')  # Etiquetas de los datos (35000)\n",
    "# Verificar las dimensiones de los datos\n",
    "print('Dimensiones de los datos:    ', datos.shape)\n",
    "print('Dimensiones de las etiquetas:', etiquetas.shape)"
   ]
  },
  {
   "cell_type": "markdown",
   "metadata": {},
   "source": [
    "## **2.- Preparación de datos**"
   ]
  },
  {
   "cell_type": "code",
   "execution_count": 2,
   "metadata": {},
   "outputs": [],
   "source": [
    "# Parámetros\n",
    "n_epochs = 12\n",
    "batch_size = 500\n",
    "# División de los datos en entrenamiento (80%) y validación (20%)\n",
    "X_train, X_val, y_train, y_val = train_test_split(datos, etiquetas, test_size=0.2, random_state=42)\n",
    "# Normalización de los datos\n",
    "scaler = StandardScaler()\n",
    "X_train = scaler.fit_transform(X_train.reshape(-1, 12*12))  # Aplanar el input a 1D\n",
    "X_val = scaler.transform(X_val.reshape(-1, 12*12))          # Aplanar el input a 1D"
   ]
  },
  {
   "cell_type": "markdown",
   "metadata": {},
   "source": [
    "## **3.- Modelo**"
   ]
  },
  {
   "cell_type": "code",
   "execution_count": 3,
   "metadata": {},
   "outputs": [
    {
     "name": "stdout",
     "output_type": "stream",
     "text": [
      "Epoch 1/12\n",
      "\u001b[1m45/45\u001b[0m \u001b[32m━━━━━━━━━━━━━━━━━━━━\u001b[0m\u001b[37m\u001b[0m \u001b[1m6s\u001b[0m 122ms/step - accuracy: 0.1933 - loss: 1.9353 - val_accuracy: 0.2377 - val_loss: 1.8987\n",
      "Epoch 2/12\n",
      "\u001b[1m45/45\u001b[0m \u001b[32m━━━━━━━━━━━━━━━━━━━━\u001b[0m\u001b[37m\u001b[0m \u001b[1m7s\u001b[0m 148ms/step - accuracy: 0.2424 - loss: 1.8883 - val_accuracy: 0.2461 - val_loss: 1.8702\n",
      "Epoch 3/12\n",
      "\u001b[1m45/45\u001b[0m \u001b[32m━━━━━━━━━━━━━━━━━━━━\u001b[0m\u001b[37m\u001b[0m \u001b[1m7s\u001b[0m 145ms/step - accuracy: 0.2506 - loss: 1.8628 - val_accuracy: 0.2482 - val_loss: 1.8540\n",
      "Epoch 4/12\n",
      "\u001b[1m45/45\u001b[0m \u001b[32m━━━━━━━━━━━━━━━━━━━━\u001b[0m\u001b[37m\u001b[0m \u001b[1m7s\u001b[0m 146ms/step - accuracy: 0.2476 - loss: 1.8514 - val_accuracy: 0.2480 - val_loss: 1.8439\n",
      "Epoch 5/12\n",
      "\u001b[1m45/45\u001b[0m \u001b[32m━━━━━━━━━━━━━━━━━━━━\u001b[0m\u001b[37m\u001b[0m \u001b[1m7s\u001b[0m 147ms/step - accuracy: 0.2533 - loss: 1.8395 - val_accuracy: 0.2479 - val_loss: 1.8372\n",
      "Epoch 6/12\n",
      "\u001b[1m45/45\u001b[0m \u001b[32m━━━━━━━━━━━━━━━━━━━━\u001b[0m\u001b[37m\u001b[0m \u001b[1m7s\u001b[0m 146ms/step - accuracy: 0.2554 - loss: 1.8290 - val_accuracy: 0.2477 - val_loss: 1.8324\n",
      "Epoch 7/12\n",
      "\u001b[1m45/45\u001b[0m \u001b[32m━━━━━━━━━━━━━━━━━━━━\u001b[0m\u001b[37m\u001b[0m \u001b[1m6s\u001b[0m 143ms/step - accuracy: 0.2488 - loss: 1.8300 - val_accuracy: 0.2479 - val_loss: 1.8289\n",
      "Epoch 8/12\n",
      "\u001b[1m45/45\u001b[0m \u001b[32m━━━━━━━━━━━━━━━━━━━━\u001b[0m\u001b[37m\u001b[0m \u001b[1m6s\u001b[0m 144ms/step - accuracy: 0.2593 - loss: 1.8191 - val_accuracy: 0.2479 - val_loss: 1.8261\n",
      "Epoch 9/12\n",
      "\u001b[1m45/45\u001b[0m \u001b[32m━━━━━━━━━━━━━━━━━━━━\u001b[0m\u001b[37m\u001b[0m \u001b[1m6s\u001b[0m 145ms/step - accuracy: 0.2529 - loss: 1.8203 - val_accuracy: 0.2477 - val_loss: 1.8239\n",
      "Epoch 10/12\n",
      "\u001b[1m45/45\u001b[0m \u001b[32m━━━━━━━━━━━━━━━━━━━━\u001b[0m\u001b[37m\u001b[0m \u001b[1m7s\u001b[0m 149ms/step - accuracy: 0.2542 - loss: 1.8175 - val_accuracy: 0.2477 - val_loss: 1.8222\n",
      "Epoch 11/12\n",
      "\u001b[1m45/45\u001b[0m \u001b[32m━━━━━━━━━━━━━━━━━━━━\u001b[0m\u001b[37m\u001b[0m \u001b[1m6s\u001b[0m 144ms/step - accuracy: 0.2550 - loss: 1.8133 - val_accuracy: 0.2480 - val_loss: 1.8207\n",
      "Epoch 12/12\n",
      "\u001b[1m45/45\u001b[0m \u001b[32m━━━━━━━━━━━━━━━━━━━━\u001b[0m\u001b[37m\u001b[0m \u001b[1m7s\u001b[0m 148ms/step - accuracy: 0.2567 - loss: 1.8134 - val_accuracy: 0.2480 - val_loss: 1.8195\n"
     ]
    }
   ],
   "source": [
    "# Construir el modelo\n",
    "MLP = Sequential([\n",
    "    Input(shape = (12*12,)),\n",
    "    Dense(640, activation = 'relu'),\n",
    "    Dense(1650, activation = 'relu'),\n",
    "    Dense(3000, activation = 'relu'),\n",
    "    Dense(500, activation = 'relu'),\n",
    "    Dense(7, activation = 'softmax')\n",
    "])\n",
    "# Compilar el modelo\n",
    "MLP.compile(optimizer = SGD(learning_rate = 1e-3), \n",
    "              loss = 'categorical_crossentropy', \n",
    "              metrics = ['accuracy'])\n",
    "# Entrenar el modelo\n",
    "history = MLP.fit(X_train, y_train, epochs = n_epochs,\n",
    "                  batch_size = batch_size,\n",
    "                  validation_split = 0.2)"
   ]
  },
  {
   "cell_type": "markdown",
   "metadata": {},
   "source": [
    "## **4.- Evaluación**"
   ]
  },
  {
   "cell_type": "code",
   "execution_count": 4,
   "metadata": {},
   "outputs": [
    {
     "name": "stdout",
     "output_type": "stream",
     "text": [
      "\u001b[1m219/219\u001b[0m \u001b[32m━━━━━━━━━━━━━━━━━━━━\u001b[0m\u001b[37m\u001b[0m \u001b[1m2s\u001b[0m 10ms/step - accuracy: 0.2488 - loss: 1.8258\n",
      "Pérdida en el conjunto de prueba:\n",
      " 1.8217724561691284\n",
      "Precisión en el conjunto de prueba:\n",
      " 0.25\n"
     ]
    },
    {
     "data": {
      "image/png": "[encoded data removed]",
      "text/plain": [
       "<Figure size 1200x500 with 2 Axes>"
      ]
     },
     "metadata": {},
     "output_type": "display_data"
    }
   ],
   "source": [
    "# Evaluar en el conjunto de prueba\n",
    "test_loss, test_acc = MLP.evaluate(X_val, y_val)\n",
    "print('Pérdida en el conjunto de prueba:\\n', test_loss)\n",
    "print('Precisión en el conjunto de prueba:\\n', test_acc)\n",
    "plot_metrics(history)"
   ]
  },
  {
   "cell_type": "markdown",
   "metadata": {},
   "source": [
    "## **Ejercicio 2**\n",
    "\n",
    ">Se definió sólo un modelo en el que se incluyeron todos los casos con y sin regularizador. El número de capas ocultas fue de 1500 neuronas y se decidieron sus parámetros conforme mejor desempeño tuvieron. En todos los casos se usó la tangente inversa como función de activación."
   ]
  },
  {
   "cell_type": "markdown",
   "metadata": {},
   "source": [
    "**Librerías y Preparación de Datos**"
   ]
  },
  {
   "cell_type": "code",
   "execution_count": null,
   "metadata": {},
   "outputs": [],
   "source": [
    "import numpy as np\n",
    "from sklearn.model_selection import train_test_split\n",
    "from sklearn.preprocessing import StandardScaler\n",
    "from sklearn.model_selection import train_test_split\n",
    "from sklearn.metrics import accuracy_score\n",
    "from sklearn.linear_model import Ridge, Lasso, ElasticNet\n",
    "# Cargar los datos\n",
    "datos = np.load('codemaps.npy') # Vectores de entrada de 12x12 (35000 \n",
    "etiquetas = np.load('labels.npy')  # Etiquetas de los datos (35000)\n",
    "# División de los datos en entrenamiento (80%) y validación (20%)\n",
    "X_train, X_val, y_train, y_val = train_test_split(datos, etiquetas, test_size=0.2, random_state=42)\n",
    "# Normalización de los datos\n",
    "scaler = StandardScaler()\n",
    "X_train = scaler.fit_transform(X_train.reshape(-1, 12*12))\n",
    "X_val = scaler.transform(X_val.reshape(-1, 12*12)) \n",
    "\n",
    "# Parámetros\n",
    "n_input = X_train.shape[1] # Número de neuronas en la capa de entrada\n",
    "hidden_layers = 1500       # Número de neuronas en la capa oculta"
   ]
  },
  {
   "cell_type": "markdown",
   "metadata": {},
   "source": [
    "## **Modelo**"
   ]
  },
  {
   "cell_type": "code",
   "execution_count": null,
   "metadata": {},
   "outputs": [],
   "source": [
    "class ExtremeLearningMachine:\n",
    "    def __init__(self, n_input, n_hidden, activation_function='tanh', regularization=None, alpha=1.0, l1_ratio=0.5):\n",
    "        self.W = np.random.randn(n_hidden, n_input)  # Pesos aleatorios\n",
    "        self.b = np.random.randn(n_hidden, 1)        # Bias aleatorio\n",
    "        self.activation_function = activation_function\n",
    "        self.regularization = regularization  # \"ridge\", \"lasso\", \"elasticnet\" o None\n",
    "        self.alpha = alpha  # Coeficiente de regularización\n",
    "        self.l1_ratio = l1_ratio  # Sólo para ElasticNet\n",
    "\n",
    "    def activation(self, X):\n",
    "        if self.activation_function == 'sigmoid':\n",
    "            return 1.0 / (1.0 + np.exp(-X))  # Sigmoide\n",
    "        elif self.activation_function == 'tanh':\n",
    "            return np.tanh(X)  # Tangente hiperbólica\n",
    "        elif self.activation_function == 'relu':\n",
    "            return np.maximum(0, X)  # ReLU\n",
    "\n",
    "    def fit(self, X, y):\n",
    "        # Calcular las activaciones de la capa oculta\n",
    "        H = self.activation(np.dot(self.W, X.T) + self.b)\n",
    "        \n",
    "        # Seleccionar el método de regularización\n",
    "        if self.regularization == \"ridge\":\n",
    "            model = Ridge(alpha=self.alpha, fit_intercept=False)\n",
    "        elif self.regularization == \"lasso\":\n",
    "            model = Lasso(alpha=self.alpha, fit_intercept=False, max_iter=10000)\n",
    "        elif self.regularization == \"elasticnet\":\n",
    "            model = ElasticNet(alpha=self.alpha, l1_ratio=self.l1_ratio, fit_intercept=False, max_iter=10000)\n",
    "        else:\n",
    "            # Pseudo-inversa para solución sin regularización\n",
    "            H_pinv = np.linalg.pinv(H.T)\n",
    "            self.beta = np.dot(H_pinv, y)\n",
    "            return\n",
    "        \n",
    "        # Ajustar el modelo con regularización\n",
    "        model.fit(H.T, y)\n",
    "        self.beta = model.coef_.T if hasattr(model, 'coef_') else model.coef_\n",
    "    \n",
    "    def predict(self, X):\n",
    "        H = self.activation(np.dot(self.W, X.T) + self.b)\n",
    "        return np.dot(H.T, self.beta)"
   ]
  },
  {
   "cell_type": "markdown",
   "metadata": {},
   "source": [
    "## **Evaluación**"
   ]
  },
  {
   "cell_type": "code",
   "execution_count": null,
   "metadata": {},
   "outputs": [
    {
     "name": "stdout",
     "output_type": "stream",
     "text": [
      "Accuracy sin regularización: 0.218\n",
      "Accuracy con Ridge:          0.22328571428571428\n",
      "Accuracy con Lasso:          0.2372857142857143\n",
      "Accuracy con ElasticNet:     0.21885714285714286\n"
     ]
    }
   ],
   "source": [
    "# Se cambia \"ridge\", \"lasso\", o \"elasticnet\" según el método de regularización que quieras usar\n",
    "ELM_sin_regularizacion = ExtremeLearningMachine(n_input=n_input, n_hidden=hidden_layers)\n",
    "ELM_ridge = ExtremeLearningMachine(n_input=n_input, n_hidden=hidden_layers, regularization=\"ridge\", alpha=0.01)\n",
    "ELM_lasso = ExtremeLearningMachine(n_input=n_input, n_hidden=hidden_layers, regularization=\"lasso\", alpha=0.01)\n",
    "ELM_elasticnet = ExtremeLearningMachine(n_input=n_input, n_hidden=hidden_layers, regularization=\"elasticnet\", alpha=0.1, l1_ratio=0.5)\n",
    "\n",
    "# Entrenar los modelos\n",
    "ELM_sin_regularizacion.fit(X_train, y_train)\n",
    "ELM_ridge.fit(X_train, y_train)\n",
    "ELM_lasso.fit(X_train, y_train)\n",
    "ELM_elasticnet.fit(X_train, y_train)\n",
    "\n",
    "# Realizar predicciones\n",
    "y_pred_sin_regularizacion = ELM_sin_regularizacion.predict(X_val) # Predicción sin regularización\n",
    "y_pred_ridge = ELM_ridge.predict(X_val) # Predicción con Ridge\n",
    "y_pred_lasso = ELM_lasso.predict(X_val) # Predicción con Lasso\n",
    "y_pred_elasticnet = ELM_elasticnet.predict(X_val) # Predicción con ElasticNet\n",
    "\n",
    "# Calcular la precisión\n",
    "accuracy_sin_regularizacion = accuracy_score(np.argmax(y_val, axis=1), np.argmax(y_pred_sin_regularizacion, axis=1))\n",
    "accuracy_ridge = accuracy_score(np.argmax(y_val, axis=1), np.argmax(y_pred_ridge, axis=1))\n",
    "accuracy_lasso = accuracy_score(np.argmax(y_val, axis=1), np.argmax(y_pred_lasso, axis=1))\n",
    "accuracy_elasticnet = accuracy_score(np.argmax(y_val, axis=1), np.argmax(y_pred_elasticnet, axis=1))\n",
    "\n",
    "print(\"Accuracy sin regularización:\", accuracy_sin_regularizacion)\n",
    "print(\"Accuracy con Ridge:         \", accuracy_ridge)\n",
    "print(\"Accuracy con Lasso:         \", accuracy_lasso)\n",
    "print(\"Accuracy con ElasticNet:    \", accuracy_elasticnet)"
   ]
  },
  {
   "cell_type": "markdown",
   "metadata": {},
   "source": [
    "## **Ejercicio 3**\n",
    "\n",
    ">Se definió sólo un modelo en el que se incluyeron todos los casos con y sin regularizador. El número de capas ocultas fue de 2000 neuronas y se decidieron sus parámetros conforme mejor desempeño tuvieron. En todos los casos se usó la tangente inversa como función de activación."
   ]
  },
  {
   "cell_type": "markdown",
   "metadata": {},
   "source": [
    "**Librerías y Preparación de Datos**"
   ]
  },
  {
   "cell_type": "code",
   "execution_count": null,
   "metadata": {},
   "outputs": [],
   "source": [
    "import numpy as np\n",
    "from sklearn.linear_model import Ridge, Lasso, ElasticNet\n",
    "from sklearn.preprocessing import StandardScaler\n",
    "from sklearn.model_selection import train_test_split\n",
    "from sklearn.metrics import accuracy_score\n",
    "# Cargar los datos\n",
    "datos = np.load('codemaps.npy')  # Vectores de entrada de 12x12\n",
    "etiquetas = np.load('labels.npy')  # Etiquetas de los datos\n",
    "# Dividir los datos en entrenamiento y validación\n",
    "X_train, X_val, y_train, y_val = train_test_split(datos, etiquetas, test_size=0.2, random_state=42)\n",
    "# Normalización de los datos\n",
    "scaler = StandardScaler()\n",
    "X_train = scaler.fit_transform(X_train.reshape(-1, 12*12))\n",
    "X_val = scaler.transform(X_val.reshape(-1, 12*12))\n",
    "\n",
    "# Parámetros del modelo\n",
    "n_input = X_train.shape[1] # Número de neuronas en la capa de entrada\n",
    "n_hidden = 2000            # Número de neuronas en la capa oculta"
   ]
  },
  {
   "cell_type": "markdown",
   "metadata": {},
   "source": [
    "## **Modelo**"
   ]
  },
  {
   "cell_type": "code",
   "execution_count": null,
   "metadata": {},
   "outputs": [],
   "source": [
    "class ELM_BinaryW:\n",
    "    def __init__(self, n_input, n_hidden, activation_function = 'tanh', regularization = None, alpha = 1.0, l1_ratio = 0.5):\n",
    "        # Inicializamos los pesos de la capa oculta como {-1, 1}\n",
    "        self.W = np.random.choice([-1, 1], size=(n_hidden, n_input)) # Pesos binarios {-1, 1}\n",
    "        self.b = np.random.choice([-1, 1], size=(n_hidden, 1))       # Bias binarios {-1, 1}\n",
    "        self.activation_function = activation_function\n",
    "        self.regularization = regularization # \"ridge\", \"lasso\", \"elasticnet\" o None\n",
    "        self.alpha = alpha # Coeficiente de regularización\n",
    "        self.l1_ratio = l1_ratio # Sólo para ElasticNet\n",
    "\n",
    "    def activation(self, X):\n",
    "        if self.activation_function == 'sigmoid':\n",
    "            return 1.0 / (1.0 + np.exp(-X))  # Sigmoide\n",
    "        elif self.activation_function == 'tanh':\n",
    "            return np.tanh(X)  # Tangente hiperbólica\n",
    "        elif self.activation_function == 'relu':\n",
    "            return np.maximum(0, X)  # ReLU\n",
    "\n",
    "    def fit(self, X, y):\n",
    "        # Calcular las activaciones de la capa oculta\n",
    "        H = self.activation(np.dot(self.W, X.T) + self.b)\n",
    "        \n",
    "        # Seleccionar el método de regularización\n",
    "        if self.regularization == \"ridge\":\n",
    "            model = Ridge(alpha = self.alpha, fit_intercept = False)\n",
    "        elif self.regularization == \"lasso\":\n",
    "            model = Lasso(alpha = self.alpha, fit_intercept = False, max_iter = 10000)\n",
    "        elif self.regularization == \"elasticnet\":\n",
    "            model = ElasticNet(alpha = self.alpha, l1_ratio = self.l1_ratio, fit_intercept = False, max_iter = 10000)\n",
    "        else:\n",
    "            # Pseudo-inversa para solución sin regularización\n",
    "            H_pinv = np.linalg.pinv(H.T)\n",
    "            self.beta = np.dot(H_pinv, y)\n",
    "            return\n",
    "        \n",
    "        # Ajustar el modelo con regularización\n",
    "        model.fit(H.T, y)\n",
    "        self.beta = model.coef_.T if hasattr(model, 'coef_') else model.coef_\n",
    "    \n",
    "    def predict(self, X):\n",
    "        H = self.activation(np.dot(self.W, X.T) + self.b)\n",
    "        return np.dot(H.T, self.beta)"
   ]
  },
  {
   "cell_type": "markdown",
   "metadata": {},
   "source": [
    "## **Evaluación**"
   ]
  },
  {
   "cell_type": "code",
   "execution_count": null,
   "metadata": {},
   "outputs": [
    {
     "name": "stdout",
     "output_type": "stream",
     "text": [
      "Accuracy sin regularización (Pesos Binarios): 0.20985714285714285\n",
      "Accuracy con Ridge (Pesos Binarios):          0.21928571428571428\n",
      "Accuracy con Lasso (Pesos Binarios):          0.24657142857142858\n",
      "Accuracy con ElasticNet (Pesos Binarios):     0.1362857142857143\n"
     ]
    }
   ],
   "source": [
    "# Se cambia \"ridge\", \"lasso\", o \"elasticnet\" según el método de regularización a utilizar.\n",
    "ELM_sin_regularizacion_bin = ELM_BinaryW(n_input=n_input, n_hidden=n_hidden)\n",
    "ELM_ridge_bin = ELM_BinaryW(n_input=n_input, n_hidden=n_hidden, regularization = \"ridge\", alpha = 0.01)\n",
    "ELM_lasso_bin = ELM_BinaryW(n_input=n_input, n_hidden=n_hidden, regularization = \"lasso\", alpha = 0.01)\n",
    "ELM_elasticnet_bin = ELM_BinaryW(n_input=n_input, n_hidden=n_hidden, regularization = \"elasticnet\", alpha = 0.1, l1_ratio = 0.5)\n",
    "\n",
    "# Entrenar los modelos con pesos binarios\n",
    "ELM_sin_regularizacion_bin.fit(X_train, y_train)\n",
    "ELM_ridge_bin.fit(X_train, y_train)\n",
    "ELM_lasso_bin.fit(X_train, y_train)\n",
    "ELM_elasticnet_bin.fit(X_train, y_train)\n",
    "\n",
    "# Realizar predicciones\n",
    "y_pred_sin_regularizacion_bin = ELM_sin_regularizacion_bin.predict(X_val) # Predicción sin regularización\n",
    "y_pred_ridge_bin = ELM_ridge_bin.predict(X_val) # Predicción con Ridge\n",
    "y_pred_lasso_bin = ELM_lasso_bin.predict(X_val) # Predicción con Lasso\n",
    "y_pred_elasticnet_bin = ELM_elasticnet_bin.predict(X_val) # Predicción con ElasticNet\n",
    "\n",
    "# Calcular la precisión de los modelos\n",
    "accuracy_sin_regularizacion_bin = accuracy_score(np.argmax(y_val, axis=1), np.argmax(y_pred_sin_regularizacion_bin, axis=1))\n",
    "accuracy_ridge_bin = accuracy_score(np.argmax(y_val, axis=1), np.argmax(y_pred_ridge_bin, axis=1))\n",
    "accuracy_lasso_bin = accuracy_score(np.argmax(y_val, axis=1), np.argmax(y_pred_lasso_bin, axis=1))\n",
    "accuracy_elasticnet_bin = accuracy_score(np.argmax(y_val, axis=1), np.argmax(y_pred_elasticnet_bin, axis=1))\n",
    "\n",
    "print(\"Accuracy sin regularización (Pesos Binarios):\", accuracy_sin_regularizacion_bin)\n",
    "print(\"Accuracy con Ridge (Pesos Binarios):         \", accuracy_ridge_bin)\n",
    "print(\"Accuracy con Lasso (Pesos Binarios):         \", accuracy_lasso_bin)\n",
    "print(\"Accuracy con ElasticNet (Pesos Binarios):    \", accuracy_elasticnet_bin)"
   ]
  }
 ],
 "metadata": {
  "kernelspec": {
   "display_name": "Python 3",
   "language": "python",
   "name": "python3"
  },
  "language_info": {
   "codemirror_mode": {
    "name": "ipython",
    "version": 3
   },
   "file_extension": ".py",
   "mimetype": "text/x-python",
   "name": "python",
   "nbconvert_exporter": "python",
   "pygments_lexer": "ipython3",
   "version": "3.11.9"
  }
 },
 "nbformat": 4,
 "nbformat_minor": 2
}
